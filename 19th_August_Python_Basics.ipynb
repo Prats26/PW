{
 "cells": [
  {
   "cell_type": "code",
   "execution_count": 1,
   "id": "bf150bd2-0261-456d-a7f1-1b39a4421d86",
   "metadata": {},
   "outputs": [
    {
     "name": "stdout",
     "output_type": "stream",
     "text": [
      "x after swapping: 5\n",
      "y after swapping: 1\n"
     ]
    }
   ],
   "source": [
    "x = 1\n",
    "y = 5\n",
    "\n",
    "x = x + y\n",
    "y = x - y\n",
    "x = x - y\n",
    "\n",
    "print(\"x after swapping:\", x)\n",
    "print(\"y after swapping:\", y)\n"
   ]
  },
  {
   "cell_type": "code",
   "execution_count": 2,
   "id": "448863a9-1010-411a-8bac-fd207f80df07",
   "metadata": {},
   "outputs": [
    {
     "name": "stdin",
     "output_type": "stream",
     "text": [
      "Enter the length of the rectangle:  23876\n",
      "Enter the width of the rectangle:  80291\n"
     ]
    },
    {
     "name": "stdout",
     "output_type": "stream",
     "text": [
      "The area of the rectangle is: 1917027916.0\n"
     ]
    }
   ],
   "source": [
    "length = float(input(\"Enter the length of the rectangle: \"))\n",
    "width = float(input(\"Enter the width of the rectangle: \"))\n",
    "\n",
    "area = length * width\n",
    "\n",
    "print(\"The area of the rectangle is:\", area)\n"
   ]
  },
  {
   "cell_type": "code",
   "execution_count": 3,
   "id": "6e155ce6-4c44-4f00-a6b8-c36a02bb3efa",
   "metadata": {},
   "outputs": [
    {
     "name": "stdin",
     "output_type": "stream",
     "text": [
      "Enter the temperature in Celsius:  83\n"
     ]
    },
    {
     "name": "stdout",
     "output_type": "stream",
     "text": [
      "The temperature in Fahrenheit is: 181.4\n"
     ]
    }
   ],
   "source": [
    "celsius = float(input(\"Enter the temperature in Celsius: \"))\n",
    "\n",
    "fahrenheit = (celsius * 9/5) + 32\n",
    "\n",
    "print(\"The temperature in Fahrenheit is:\", fahrenheit)\n"
   ]
  },
  {
   "cell_type": "code",
   "execution_count": 4,
   "id": "9c7e3604-de32-427a-8e59-b52f5c071b05",
   "metadata": {},
   "outputs": [
    {
     "name": "stdin",
     "output_type": "stream",
     "text": [
      "Enter a string:  Prateek\n"
     ]
    },
    {
     "name": "stdout",
     "output_type": "stream",
     "text": [
      "The length of the string is: 7\n"
     ]
    }
   ],
   "source": [
    "input_string = input(\"Enter a string: \")\n",
    "\n",
    "length = len(input_string)\n",
    "\n",
    "print(\"The length of the string is:\", length)\n"
   ]
  },
  {
   "cell_type": "code",
   "execution_count": 6,
   "id": "6732f842-509a-4877-a1ec-b0d3ec09fedc",
   "metadata": {},
   "outputs": [
    {
     "name": "stdin",
     "output_type": "stream",
     "text": [
      "Enter a sentence:  my name is prateek\n"
     ]
    },
    {
     "name": "stdout",
     "output_type": "stream",
     "text": [
      "The number of vowels in the sentence is: 6\n"
     ]
    }
   ],
   "source": [
    "sentence = input(\"Enter a sentence: \")\n",
    "\n",
    "vowel_count = 0\n",
    "\n",
    "for char in sentence:\n",
    "    if char in \"aeiou\":\n",
    "        vowel_count += 1\n",
    "\n",
    "print(\"The number of vowels in the sentence is:\", vowel_count)\n"
   ]
  },
  {
   "cell_type": "code",
   "execution_count": 7,
   "id": "45f5d821-788d-4854-b446-d1d280488672",
   "metadata": {},
   "outputs": [
    {
     "name": "stdin",
     "output_type": "stream",
     "text": [
      "Enter a string:  Physics Wallah\n"
     ]
    },
    {
     "name": "stdout",
     "output_type": "stream",
     "text": [
      "Reversed string: hallaW scisyhP\n"
     ]
    }
   ],
   "source": [
    "input_string = input(\"Enter a string: \")\n",
    "\n",
    "reversed_string = input_string[::-1]\n",
    "\n",
    "print(\"Reversed string:\", reversed_string)\n"
   ]
  },
  {
   "cell_type": "code",
   "execution_count": 8,
   "id": "bfa9d69a-f92c-4937-b291-a9b3904e3a7d",
   "metadata": {},
   "outputs": [
    {
     "name": "stdin",
     "output_type": "stream",
     "text": [
      "Enter a string:  Naman\n"
     ]
    },
    {
     "name": "stdout",
     "output_type": "stream",
     "text": [
      "The string is a palindrome.\n"
     ]
    }
   ],
   "source": [
    "input_string = input(\"Enter a string: \")\n",
    "\n",
    "input_string = input_string.replace(\" \", \"\").lower()\n",
    "\n",
    "reversed_string = input_string[::-1]\n",
    "\n",
    "if input_string == reversed_string:\n",
    "    print(\"The string is a palindrome.\")\n",
    "else:\n",
    "    print(\"The string is not a palindrome.\")\n"
   ]
  },
  {
   "cell_type": "code",
   "execution_count": 9,
   "id": "aefde5fa-a5e7-4756-ba99-5ab2af576b98",
   "metadata": {},
   "outputs": [
    {
     "name": "stdin",
     "output_type": "stream",
     "text": [
      "Enter a string:  My Name is Prateek\n"
     ]
    },
    {
     "name": "stdout",
     "output_type": "stream",
     "text": [
      "Modified string without spaces: MyNameisPrateek\n"
     ]
    }
   ],
   "source": [
    "input_string = input(\"Enter a string: \")\n",
    "\n",
    "modified_string = input_string.replace(\" \", \"\")\n",
    "\n",
    "print(\"Modified string without spaces:\", modified_string)\n"
   ]
  },
  {
   "cell_type": "code",
   "execution_count": null,
   "id": "1ae6b306-e200-4187-888f-9efc02ae57af",
   "metadata": {},
   "outputs": [],
   "source": []
  }
 ],
 "metadata": {
  "kernelspec": {
   "display_name": "Python 3 (ipykernel)",
   "language": "python",
   "name": "python3"
  },
  "language_info": {
   "codemirror_mode": {
    "name": "ipython",
    "version": 3
   },
   "file_extension": ".py",
   "mimetype": "text/x-python",
   "name": "python",
   "nbconvert_exporter": "python",
   "pygments_lexer": "ipython3",
   "version": "3.10.8"
  }
 },
 "nbformat": 4,
 "nbformat_minor": 5
}
